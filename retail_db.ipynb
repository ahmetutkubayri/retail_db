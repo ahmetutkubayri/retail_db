{
 "cells": [
  {
   "cell_type": "markdown",
   "id": "fe1c7c81",
   "metadata": {},
   "source": [
    "# Retail Data Analysis with PySpark\n",
    "This analysis explores retail data, including customer orders, product details, and sales categories. The primary goal is to analyze order data, identify distinct orders, and observe relationships among various datasets.\n",
    "\n",
    "### Dataset Descriptions\n",
    "- `orders.csv`: Contains customer orders with order details and timestamps.\n",
    "- `order_items.csv`: Includes item-level details for each order.\n",
    "- `products.csv`: Lists product details available in the store.\n",
    "- `customers.csv`: Contains customer data.\n",
    "- `categories.csv`: Provides categories for each product.\n",
    "- `departments.csv`: Department data for organizing products.\n",
    "\n",
    "The following analysis is performed using PySpark to demonstrate data processing, aggregation, and summary statistics.\n"
   ]
  },
  {
   "cell_type": "code",
   "execution_count": 6,
   "id": "fcd00944-b91a-4475-a802-a5d928258fb0",
   "metadata": {},
   "outputs": [],
   "source": [
    "from pyspark.sql import SparkSession, functions as F\n",
    "from pyspark.sql.types import *"
   ]
  },
  {
   "cell_type": "code",
   "execution_count": 7,
   "id": "7a2bcfb8-898c-40c2-8d81-37f399e910ff",
   "metadata": {},
   "outputs": [
    {
     "name": "stderr",
     "output_type": "stream",
     "text": [
      "Setting default log level to \"WARN\".\n",
      "To adjust logging level use sc.setLogLevel(newLevel). For SparkR, use setLogLevel(newLevel).\n",
      "24/10/31 15:00:23 WARN NativeCodeLoader: Unable to load native-hadoop library for your platform... using builtin-java classes where applicable\n"
     ]
    }
   ],
   "source": [
    "spark = SparkSession.builder.appName(\"RetailDBAnalysis\").master(\"local[2]\").getOrCreate()"
   ]
  },
  {
   "cell_type": "markdown",
   "id": "87252794",
   "metadata": {},
   "source": [
    "# Load datasets using Spark's CSV reader with schema inference\n",
    "# Each dataset is loaded into a separate DataFrame for easier manipulation and analysis\n"
   ]
  },
  {
   "cell_type": "code",
   "execution_count": 8,
   "id": "e6f2b580-4f41-4661-925e-dc24638ab03e",
   "metadata": {},
   "outputs": [
    {
     "name": "stderr",
     "output_type": "stream",
     "text": [
      "                                                                                \r"
     ]
    }
   ],
   "source": [
    "# Load datasets using Spark's CSV reader with schema inference.\n",
    "# Each dataset is loaded into a separate DataFrame for easier manipulation and analysis.\n",
    "\n",
    "orders_df = spark.read.csv(\"/opt/examples/orders.csv\", header=True, inferSchema=True)\n",
    "order_items_df = spark.read.csv(\"/opt/examples/order_items.csv\", header=True, inferSchema=True)\n",
    "products_df = spark.read.csv(\"/opt/examples/products.csv\", header=True, inferSchema=True)\n",
    "customers_df = spark.read.csv(\"/opt/examples/customers.csv\", header=True, inferSchema=True)\n",
    "categories_df = spark.read.csv(\"/opt/examples/categories.csv\", header=True, inferSchema=True)\n",
    "departments_df = spark.read.csv(\"/opt/examples/departments.csv\", header=True, inferSchema=True)"
   ]
  },
  {
   "cell_type": "code",
   "execution_count": 9,
   "id": "ec9e1121-efcf-4956-873e-00be5b3deb4b",
   "metadata": {},
   "outputs": [
    {
     "name": "stderr",
     "output_type": "stream",
     "text": [
      "[Stage 12:=============================>                            (1 + 1) / 2]\r"
     ]
    },
    {
     "name": "stdout",
     "output_type": "stream",
     "text": [
      "Distinct orderItemOrderId count: 57431\n"
     ]
    },
    {
     "name": "stderr",
     "output_type": "stream",
     "text": [
      "                                                                                \r"
     ]
    }
   ],
   "source": [
    "# Count distinct orders by selecting unique order IDs in order_items_df.\n",
    "\n",
    "distinct_order_ids = order_items_df.select(\"orderItemOrderId\").distinct().count()\n",
    "print(\"Distinct orderItemOrderId count:\", distinct_order_ids)\n",
    "\n",
    "# Explanation: This output shows the count of unique orders, \n",
    "# helping us understand the total number of individual orders processed."
   ]
  },
  {
   "cell_type": "code",
   "execution_count": 10,
   "id": "c4fe5a6d-6c86-476e-a0c9-42219054d9a4",
   "metadata": {},
   "outputs": [
    {
     "name": "stdout",
     "output_type": "stream",
     "text": [
      "Orders row count: 68883\n",
      "Order Items row count: 172198\n"
     ]
    }
   ],
   "source": [
    "# Count the total number of rows in orders and order_items tables.\n",
    "# This provides a basic overview of the dataset sizes.\n",
    "\n",
    "orders_count = orders_df.count()\n",
    "order_items_count = order_items_df.count()\n",
    "print(\"Orders row count:\", orders_count)\n",
    "print(\"Order Items row count:\", order_items_count)\n",
    "\n",
    "# Explanation: These row counts give us a sense of the data volume \n",
    "# in the orders and order items datasets."
   ]
  },
  {
   "cell_type": "code",
   "execution_count": 11,
   "id": "700a684b-7df3-483d-b110-5bcc6d2dc27a",
   "metadata": {},
   "outputs": [],
   "source": [
    "canceled_orders = orders_df.filter(orders_df.orderStatus == \"CANCELED\")\n"
   ]
  },
  {
   "cell_type": "code",
   "execution_count": 12,
   "id": "15268e35-0925-4c45-83b0-40ed8cb108ac",
   "metadata": {},
   "outputs": [
    {
     "name": "stdout",
     "output_type": "stream",
     "text": [
      "+-------+-------------------+---------------+-----------+\n",
      "|orderId|          orderDate|orderCustomerId|orderStatus|\n",
      "+-------+-------------------+---------------+-----------+\n",
      "|     50|2013-07-25 00:00:00|           5225|   CANCELED|\n",
      "|    112|2013-07-26 00:00:00|           5375|   CANCELED|\n",
      "|    527|2013-07-28 00:00:00|           5426|   CANCELED|\n",
      "|    552|2013-07-28 00:00:00|           1445|   CANCELED|\n",
      "|    564|2013-07-28 00:00:00|           2216|   CANCELED|\n",
      "|    607|2013-07-28 00:00:00|           6376|   CANCELED|\n",
      "|    649|2013-07-28 00:00:00|           7261|   CANCELED|\n",
      "|    667|2013-07-28 00:00:00|           4726|   CANCELED|\n",
      "|    716|2013-07-29 00:00:00|           2581|   CANCELED|\n",
      "|    717|2013-07-29 00:00:00|           8208|   CANCELED|\n",
      "+-------+-------------------+---------------+-----------+\n",
      "only showing top 10 rows\n",
      "\n"
     ]
    }
   ],
   "source": [
    "canceled_orders.show(10)"
   ]
  },
  {
   "cell_type": "code",
   "execution_count": 13,
   "id": "df27bcce-97df-4c5b-b3e5-9b45992bb523",
   "metadata": {},
   "outputs": [],
   "source": [
    "canceled_product_sales = canceled_orders \\\n",
    "    .join(order_items_df, canceled_orders.orderId == order_items_df.orderItemOrderId) \\\n",
    "    .join(products_df, order_items_df.orderItemProductId == products_df.productId) \\\n",
    "    .groupBy(\"productName\") \\\n",
    "    .agg(F.round(F.sum(\"orderItemSubTotal\"), 2).alias(\"total_sales\")) \\\n",
    "    .orderBy(F.desc(\"total_sales\"))"
   ]
  },
  {
   "cell_type": "code",
   "execution_count": 14,
   "id": "82262c51-9540-4c06-a953-3cbaea9592b2",
   "metadata": {},
   "outputs": [
    {
     "name": "stdout",
     "output_type": "stream",
     "text": [
      "+--------------------+-----------+\n",
      "|         productName|total_sales|\n",
      "+--------------------+-----------+\n",
      "|Field & Stream Sp...|  134393.28|\n",
      "|Perfect Fitness P...|    85785.7|\n",
      "|Nike Men's Free 5...|   80691.93|\n",
      "|Diamondback Women...|   80094.66|\n",
      "|Pelican Sunstream...|   66196.69|\n",
      "|Nike Men's Dri-FI...|    65750.0|\n",
      "|Nike Men's CJ Eli...|   60705.33|\n",
      "|O'Brien Men's Neo...|   58126.74|\n",
      "|Under Armour Girl...|   26153.46|\n",
      "|LIJA Women's Eyel...|     2145.0|\n",
      "+--------------------+-----------+\n",
      "only showing top 10 rows\n",
      "\n"
     ]
    }
   ],
   "source": [
    "canceled_product_sales.show(10)"
   ]
  },
  {
   "cell_type": "code",
   "execution_count": 15,
   "id": "f0f8e7ab-d58a-4977-bf63-b5f66ec9638a",
   "metadata": {},
   "outputs": [
    {
     "name": "stderr",
     "output_type": "stream",
     "text": [
      "                                                                                \r"
     ]
    }
   ],
   "source": [
    "canceled_product_sales.write \\\n",
    ".mode(\"overwrite\") \\\n",
    ".format(\"parquet\") \\\n",
    ".save(\"output/most_canceled_products.parquet\")\n"
   ]
  },
  {
   "cell_type": "code",
   "execution_count": 16,
   "id": "0b85cae3-81d4-4e46-b5a1-8cdc52b18133",
   "metadata": {},
   "outputs": [],
   "source": [
    "canceled_order_items = order_items_df.join(canceled_orders, order_items_df.orderItemOrderId == canceled_orders.orderId)"
   ]
  },
  {
   "cell_type": "code",
   "execution_count": 24,
   "id": "f20dd9dc-e8ad-4892-901f-dfc9dc5e0093",
   "metadata": {},
   "outputs": [],
   "source": [
    "canceled_categories_sales = canceled_order_items \\\n",
    "    .join(products_df, canceled_order_items.orderItemProductId == products_df.productId) \\\n",
    "    .join(categories_df, products_df.productCategoryId == categories_df.categoryId) \\\n",
    "    .groupBy(\"categoryName\") \\\n",
    "    .agg(F.round(F.sum(\"orderItemSubTotal\"),2).alias(\"total_sales\")) \\\n",
    "    .orderBy(F.desc(\"total_sales\"))"
   ]
  },
  {
   "cell_type": "code",
   "execution_count": 25,
   "id": "70b2bdca-862e-4f01-9099-c7b1f6a8d1a5",
   "metadata": {},
   "outputs": [
    {
     "name": "stdout",
     "output_type": "stream",
     "text": [
      "+--------------------+-----------+\n",
      "|        categoryName|total_sales|\n",
      "+--------------------+-----------+\n",
      "|             Fishing|  134393.28|\n",
      "|              Cleats|    85785.7|\n",
      "|    Cardio Equipment|   81351.93|\n",
      "|    Camping & Hiking|   80094.66|\n",
      "|        Water Sports|   66196.69|\n",
      "|     Women's Apparel|    65750.0|\n",
      "|      Men's Footwear|   60705.33|\n",
      "|Indoor/Outdoor Games|   58126.74|\n",
      "|       Shop By Sport|   27423.44|\n",
      "|         Electronics|     5685.5|\n",
      "+--------------------+-----------+\n",
      "only showing top 10 rows\n",
      "\n"
     ]
    }
   ],
   "source": [
    "canceled_categories_sales.show(10)"
   ]
  },
  {
   "cell_type": "code",
   "execution_count": 26,
   "id": "82e851c6-e652-4428-9e6a-0880cc7a03fa",
   "metadata": {},
   "outputs": [],
   "source": [
    "monthly_sales = orders_df \\\n",
    "    .join(order_items_df, orders_df.orderId == order_items_df.orderItemOrderId) \\\n",
    "    .withColumn(\"month_year\", F.date_format(\"orderDate\", \"MMMM-yyyy\")) \\\n",
    "    .groupBy(\"month_year\") \\\n",
    "    .agg(F.round(F.sum(\"orderItemSubTotal\"), 2).alias(\"total_sales\")) \\\n",
    "    .orderBy(F.desc(\"total_sales\"))"
   ]
  },
  {
   "cell_type": "code",
   "execution_count": 28,
   "id": "232342cf-887a-4b25-95b3-15996a118c9d",
   "metadata": {},
   "outputs": [
    {
     "name": "stdout",
     "output_type": "stream",
     "text": [
      "2013 yılının Kasım ayında en çok satış olmuş\n"
     ]
    }
   ],
   "source": [
    "months_tr = {\n",
    "    \"January\": \"Ocak\", \"February\": \"Şubat\", \"March\": \"Mart\", \"April\": \"Nisan\",\n",
    "    \"May\": \"Mayıs\", \"June\": \"Haziran\", \"July\": \"Temmuz\", \"August\": \"Ağustos\",\n",
    "    \"September\": \"Eylül\", \"October\": \"Ekim\", \"November\": \"Kasım\", \"December\": \"Aralık\"\n",
    "}\n",
    "\n",
    "monthly_sales = orders_df \\\n",
    "    .join(order_items_df, orders_df[\"orderId\"] == order_items_df[\"orderItemOrderId\"]) \\\n",
    "    .withColumn(\"month\", F.date_format(\"orderDate\", \"MMMM\")) \\\n",
    "    .withColumn(\"year\", F.year(\"orderDate\")) \\\n",
    "    .groupBy(\"month\", \"year\") \\\n",
    "    .agg(F.round(F.sum(\"orderItemSubTotal\"), 2).alias(\"total_sales\")) \\\n",
    "    .orderBy(F.desc(\"total_sales\"))\n",
    "\n",
    "top_monthly_sales = monthly_sales.limit(1).collect()[0]\n",
    "\n",
    "month_tr = months_tr[top_monthly_sales[\"month\"]]\n",
    "year = top_monthly_sales[\"year\"]\n",
    "\n",
    "output = f\"{year} yılının {month_tr} ayında en çok satış olmuş\"\n",
    "print(output)"
   ]
  },
  {
   "cell_type": "code",
   "execution_count": 29,
   "id": "42a8da10-7aa0-4c44-aaf1-56aab21b64f3",
   "metadata": {},
   "outputs": [
    {
     "name": "stdout",
     "output_type": "stream",
     "text": [
      "En çok satış yapılan gün: Cuma\n"
     ]
    }
   ],
   "source": [
    "days_tr = {\n",
    "    \"Monday\": \"Pazartesi\", \"Tuesday\": \"Salı\", \"Wednesday\": \"Çarşamba\",\n",
    "    \"Thursday\": \"Perşembe\", \"Friday\": \"Cuma\", \"Saturday\": \"Cumartesi\", \"Sunday\": \"Pazar\"\n",
    "}\n",
    "\n",
    "weekly_sales = orders_df \\\n",
    "    .join(order_items_df, orders_df[\"orderId\"] == order_items_df[\"orderItemOrderId\"]) \\\n",
    "    .withColumn(\"day_of_week\", F.date_format(\"orderDate\", \"EEEE\")) \\\n",
    "    .groupBy(\"day_of_week\") \\\n",
    "    .agg(F.round(F.sum(\"orderItemSubTotal\"), 2).alias(\"total_sales\")) \\\n",
    "    .orderBy(F.desc(\"total_sales\"))\n",
    "\n",
    "top_day_sales = weekly_sales.limit(1).collect()[0]\n",
    "\n",
    "# Convert the English day name to Turkish\n",
    "day_of_week_tr = days_tr[top_day_sales[\"day_of_week\"]]\n",
    "\n",
    "# Format the output in the requested format\n",
    "output = f\"En çok satış yapılan gün: {day_of_week_tr}\"\n",
    "print(output)\n"
   ]
  },
  {
   "cell_type": "code",
   "execution_count": 30,
   "id": "ce4b594c-1547-4c6d-9bca-7422522e44fb",
   "metadata": {},
   "outputs": [],
   "source": [
    "retail_all = orders_df \\\n",
    "    .join(order_items_df, orders_df.orderId == order_items_df.orderItemOrderId, \"left\") \\\n",
    "    .join(customers_df, orders_df.orderCustomerId == customers_df.customerId, \"left\") \\\n",
    "    .join(products_df, order_items_df.orderItemProductId == products_df.productId, \"left\") \\\n",
    "    .join(categories_df, products_df.productCategoryId == categories_df.categoryId, \"left\") \\\n",
    "    .join(departments_df, categories_df.categoryDepartmentId == departments_df.departmentId, \"left\") \\\n",
    "    .select(\n",
    "        F.col(\"orderItemName\"),\n",
    "        F.col(\"orderItemOrderId\"),\n",
    "        F.col(\"orderItemProductId\"),\n",
    "        F.col(\"orderItemQuantity\"),\n",
    "        F.col(\"orderItemSubTotal\"),\n",
    "        F.col(\"orderItemProductPrice\"),\n",
    "        F.col(\"orderId\"),\n",
    "        F.col(\"orderDate\").cast(\"timestamp\"),\n",
    "        F.col(\"orderCustomerId\"),\n",
    "        F.col(\"orderStatus\"),\n",
    "        F.col(\"customerId\"),\n",
    "        F.col(\"customerFName\"),\n",
    "        F.col(\"customerLName\"),\n",
    "        F.col(\"customerEmail\"),\n",
    "        F.col(\"customerPassword\"),\n",
    "        F.col(\"customerStreet\"),\n",
    "        F.col(\"customerCity\"),\n",
    "        F.col(\"customerState\"),\n",
    "        F.col(\"customerZipcode\"),\n",
    "        F.col(\"productId\"),\n",
    "        F.col(\"productCategoryId\"),\n",
    "        F.col(\"productName\"),\n",
    "        F.col(\"productDescription\"),\n",
    "        F.col(\"productPrice\"),\n",
    "        F.col(\"productImage\"),\n",
    "        F.col(\"categoryId\"),\n",
    "        F.col(\"categoryDepartmentId\"),\n",
    "        F.col(\"categoryName\"),\n",
    "        F.col(\"departmentId\"),\n",
    "        F.col(\"departmentName\")\n",
    "    )"
   ]
  },
  {
   "cell_type": "code",
   "execution_count": 31,
   "id": "d0719baf-aae5-492a-883e-f930c270a4aa",
   "metadata": {},
   "outputs": [
    {
     "name": "stdout",
     "output_type": "stream",
     "text": [
      "root\n",
      " |-- orderItemName: integer (nullable = true)\n",
      " |-- orderItemOrderId: integer (nullable = true)\n",
      " |-- orderItemProductId: integer (nullable = true)\n",
      " |-- orderItemQuantity: integer (nullable = true)\n",
      " |-- orderItemSubTotal: double (nullable = true)\n",
      " |-- orderItemProductPrice: double (nullable = true)\n",
      " |-- orderId: integer (nullable = true)\n",
      " |-- orderDate: timestamp (nullable = true)\n",
      " |-- orderCustomerId: integer (nullable = true)\n",
      " |-- orderStatus: string (nullable = true)\n",
      " |-- customerId: integer (nullable = true)\n",
      " |-- customerFName: string (nullable = true)\n",
      " |-- customerLName: string (nullable = true)\n",
      " |-- customerEmail: string (nullable = true)\n",
      " |-- customerPassword: string (nullable = true)\n",
      " |-- customerStreet: string (nullable = true)\n",
      " |-- customerCity: string (nullable = true)\n",
      " |-- customerState: string (nullable = true)\n",
      " |-- customerZipcode: integer (nullable = true)\n",
      " |-- productId: integer (nullable = true)\n",
      " |-- productCategoryId: integer (nullable = true)\n",
      " |-- productName: string (nullable = true)\n",
      " |-- productDescription: string (nullable = true)\n",
      " |-- productPrice: double (nullable = true)\n",
      " |-- productImage: string (nullable = true)\n",
      " |-- categoryId: integer (nullable = true)\n",
      " |-- categoryDepartmentId: integer (nullable = true)\n",
      " |-- categoryName: string (nullable = true)\n",
      " |-- departmentId: integer (nullable = true)\n",
      " |-- departmentName: string (nullable = true)\n",
      "\n"
     ]
    }
   ],
   "source": [
    "retail_all.printSchema()"
   ]
  },
  {
   "cell_type": "code",
   "execution_count": 39,
   "id": "2dc0226e-a024-4be5-a2cb-d454f12a8459",
   "metadata": {},
   "outputs": [
    {
     "name": "stderr",
     "output_type": "stream",
     "text": [
      "                                                                                \r"
     ]
    }
   ],
   "source": [
    "db_ip = \"172.19.0.2\"\n",
    "user_name = \"postgres\"\n",
    "password = \"Ankara06\"\n",
    "\n",
    "jdbcUrl = f\"jdbc:postgresql://{db_ip}:5432/test1?user={user_name}&password={password}\"\n",
    "\n",
    "retail_all.write.jdbc(\n",
    "    url=jdbcUrl,\n",
    "    table=\"churn_spark\",\n",
    "    mode=\"overwrite\",\n",
    "    properties={\"driver\": \"org.postgresql.Driver\"}\n",
    ")"
   ]
  },
  {
   "cell_type": "code",
   "execution_count": null,
   "id": "185624b2-3cc6-48b3-a65b-efebac2a1774",
   "metadata": {},
   "outputs": [],
   "source": []
  }
 ],
 "metadata": {
  "kernelspec": {
   "display_name": "Python 3 (ipykernel)",
   "language": "python",
   "name": "python3"
  },
  "language_info": {
   "codemirror_mode": {
    "name": "ipython",
    "version": 3
   },
   "file_extension": ".py",
   "mimetype": "text/x-python",
   "name": "python",
   "nbconvert_exporter": "python",
   "pygments_lexer": "ipython3",
   "version": "3.12.7"
  }
 },
 "nbformat": 4,
 "nbformat_minor": 5
}
